{
 "cells": [
  {
   "cell_type": "code",
   "execution_count": 2,
   "id": "179c787a-3784-4f22-9dc5-45abe380487a",
   "metadata": {},
   "outputs": [
    {
     "name": "stdout",
     "output_type": "stream",
     "text": [
      "<class 'int'>\n",
      "<class 'float'>\n",
      "<class 'complex'>\n",
      "<class 'str'>\n",
      "<class 'list'>\n",
      "<class 'tuple'>\n",
      "<class 'set'>\n"
     ]
    }
   ],
   "source": [
    "#Identifying type of the variable in python\n",
    "a=10\n",
    "b=3.8\n",
    "c=2+3j\n",
    "d=\"Ashifa\"\n",
    "e=[1,2,3,4]\n",
    "f=(9,8,7,6)\n",
    "g={8,9,10,11}\n",
    "print(type(a))\n",
    "print(type(b))\n",
    "print(type(c))\n",
    "print(type(d))\n",
    "print(type(e))\n",
    "print(type(f))\n",
    "print(type(g))"
   ]
  },
  {
   "cell_type": "code",
   "execution_count": 3,
   "id": "5a108da6-a040-40b3-8d2c-00641eb38a03",
   "metadata": {},
   "outputs": [
    {
     "name": "stdout",
     "output_type": "stream",
     "text": [
      "5 is greater\n"
     ]
    }
   ],
   "source": [
    "#finding the greatest number between two values\n",
    "a=2\n",
    "b=5\n",
    "if a>b:\n",
    "    print(a,\"is greater\")\n",
    "else:\n",
    "    print(b, \"is greater\")"
   ]
  },
  {
   "cell_type": "code",
   "execution_count": 4,
   "id": "1010e8fd-ee89-4443-ab6d-7f731e3db6e2",
   "metadata": {},
   "outputs": [
    {
     "name": "stdin",
     "output_type": "stream",
     "text": [
      "Enter a number: 8\n"
     ]
    },
    {
     "name": "stdout",
     "output_type": "stream",
     "text": [
      "8\n",
      "<class 'int'>\n",
      "8.0\n"
     ]
    }
   ],
   "source": [
    "#how to get user input in python\n",
    "n=int(input(\"Enter a number:\"))\n",
    "print(n)\n",
    "print(type(n))\n",
    "print(float(n))"
   ]
  },
  {
   "cell_type": "code",
   "execution_count": 5,
   "id": "389514ff-6376-4b74-ae3e-b3bc3a4a242b",
   "metadata": {},
   "outputs": [
    {
     "name": "stdout",
     "output_type": "stream",
     "text": [
      "The volume of the box is: 6000\n"
     ]
    }
   ],
   "source": [
    "#simple volume calculation in python\n",
    "l=10\n",
    "w=20\n",
    "h=30\n",
    "volume=l*w*h\n",
    "print(\"The volume of the box is:\", volume)"
   ]
  },
  {
   "cell_type": "code",
   "execution_count": 6,
   "id": "3fbf3786-d2ea-4c2f-9472-ac787bbfcc79",
   "metadata": {},
   "outputs": [
    {
     "name": "stdin",
     "output_type": "stream",
     "text": [
      "Enter the name: Ashifa\n",
      "Enter the age: 18\n"
     ]
    },
    {
     "name": "stdout",
     "output_type": "stream",
     "text": [
      "Name: Ashifa\n",
      "Age: 18\n"
     ]
    }
   ],
   "source": [
    "#printing name and age from the user input\n",
    "name=input(\"Enter the name:\")\n",
    "age=int(input(\"Enter the age:\"))\n",
    "print(\"Name:\",name)\n",
    "print(\"Age:\",age)"
   ]
  },
  {
   "cell_type": "code",
   "execution_count": 7,
   "id": "f62a41a3-ba51-41b4-b868-15ca7af098b1",
   "metadata": {},
   "outputs": [
    {
     "name": "stdin",
     "output_type": "stream",
     "text": [
      "Enter the radius: 5\n"
     ]
    },
    {
     "name": "stdout",
     "output_type": "stream",
     "text": [
      "Area of circle: 78.5\n"
     ]
    }
   ],
   "source": [
    "#calculating area of the circle\n",
    "radius=int(input(\"Enter the radius:\"))\n",
    "area=3.14*radius*radius\n",
    "print(\"Area of circle:\",area)"
   ]
  },
  {
   "cell_type": "code",
   "execution_count": 8,
   "id": "258c966d-2940-4c39-ae70-e1b597c9ba21",
   "metadata": {},
   "outputs": [
    {
     "name": "stdout",
     "output_type": "stream",
     "text": [
      "Even\n"
     ]
    }
   ],
   "source": [
    "#checking if a number is even or odd\n",
    "n=2\n",
    "if n%2==0:\n",
    "    print(\"Even\")\n",
    "else:\n",
    "    print(\"Odd\")"
   ]
  },
  {
   "cell_type": "code",
   "execution_count": 10,
   "id": "3071305b-6ecc-4def-b19d-22e59f69337f",
   "metadata": {},
   "outputs": [
    {
     "name": "stdout",
     "output_type": "stream",
     "text": [
      "Hello,Guest\n"
     ]
    }
   ],
   "source": [
    "#functions in python 01\n",
    "def greet(name=\"Guest\"):\n",
    "    return \"Hello,\"+name\n",
    "print(greet())"
   ]
  },
  {
   "cell_type": "code",
   "execution_count": 11,
   "id": "f4592b5d-5290-49ec-a3d1-6e051063786e",
   "metadata": {},
   "outputs": [
    {
     "name": "stdout",
     "output_type": "stream",
     "text": [
      "0.2\n"
     ]
    }
   ],
   "source": [
    "#functions in python 02\n",
    "def divide(a,b):\n",
    "    return a/b\n",
    "print(divide(b=10,a=2))"
   ]
  },
  {
   "cell_type": "code",
   "execution_count": 12,
   "id": "ec0b2184-3127-4d96-b92a-69b44af596ab",
   "metadata": {},
   "outputs": [
    {
     "name": "stdout",
     "output_type": "stream",
     "text": [
      "Odd\n"
     ]
    }
   ],
   "source": [
    "#functions in python 03\n",
    "def check(n):\n",
    "    if n%2==0:\n",
    "        print(\"Even\")\n",
    "    else:\n",
    "        print(\"Odd\")\n",
    "check(3)"
   ]
  },
  {
   "cell_type": "code",
   "execution_count": 13,
   "id": "183a4d09-d49b-4ee0-aa30-218fc3a60e4a",
   "metadata": {},
   "outputs": [
    {
     "name": "stdout",
     "output_type": "stream",
     "text": [
      "1\n",
      "2\n",
      "3\n",
      "4\n"
     ]
    }
   ],
   "source": [
    "#looping in python \n",
    "for i in range(1,5):\n",
    "    print(i)"
   ]
  },
  {
   "cell_type": "code",
   "execution_count": 14,
   "id": "5bb651bd-1ff7-4c04-9162-ff336b9d3afb",
   "metadata": {},
   "outputs": [
    {
     "name": "stdout",
     "output_type": "stream",
     "text": [
      "Area of square: 25\n",
      "Area of rectangle: 30\n"
     ]
    }
   ],
   "source": [
    "#calculating area of shapes\n",
    "def square(a):\n",
    "    print(\"Area of square:\",a*a)\n",
    "square(5)\n",
    "def rectangle(l,b):\n",
    "    print(\"Area of rectangle:\",l*b)\n",
    "rectangle(6,5)"
   ]
  },
  {
   "cell_type": "code",
   "execution_count": 15,
   "id": "7741e2b9-7a7d-4fca-a076-147a23df7668",
   "metadata": {},
   "outputs": [
    {
     "name": "stdout",
     "output_type": "stream",
     "text": [
      "Hello\n",
      "world\n",
      "Helloworld\n",
      "HelloHello\n",
      "HELLO\n",
      "hello\n",
      "WORLD\n",
      "world\n"
     ]
    }
   ],
   "source": [
    "#string operations\n",
    "a=\"Hello\"\n",
    "b=\"world\"\n",
    "print(a)\n",
    "print(b)\n",
    "print(a+b)\n",
    "print(a*2)\n",
    "print(a.upper())\n",
    "print(a.lower())\n",
    "print(b.upper())\n",
    "print(b.lower())"
   ]
  },
  {
   "cell_type": "code",
   "execution_count": 18,
   "id": "0c54c16a-a6fe-4a0a-82cb-80735289fc18",
   "metadata": {},
   "outputs": [
    {
     "name": "stdout",
     "output_type": "stream",
     "text": [
      "Welcome\n",
      "8\n"
     ]
    }
   ],
   "source": [
    "#void functions\n",
    "def show():\n",
    "    print(\"Welcome\")\n",
    "show()\n",
    "def add(a,b):\n",
    "    print(a+b)\n",
    "add(5,3)"
   ]
  },
  {
   "cell_type": "code",
   "execution_count": 20,
   "id": "e8b04821-f11d-40d6-8888-f4ceb2c43367",
   "metadata": {},
   "outputs": [
    {
     "name": "stdout",
     "output_type": "stream",
     "text": [
      "8\n",
      "8\n"
     ]
    }
   ],
   "source": [
    "#fruitful function\n",
    "def add(a,b):\n",
    "    return(a+b)\n",
    "print(add(5,3))\n",
    "#or\n",
    "def add(a,b):\n",
    "    return(a+b)\n",
    "c=add(5,3)\n",
    "print(c)"
   ]
  }
 ],
 "metadata": {
  "kernelspec": {
   "display_name": "Python 3 (ipykernel)",
   "language": "python",
   "name": "python3"
  },
  "language_info": {
   "codemirror_mode": {
    "name": "ipython",
    "version": 3
   },
   "file_extension": ".py",
   "mimetype": "text/x-python",
   "name": "python",
   "nbconvert_exporter": "python",
   "pygments_lexer": "ipython3",
   "version": "3.13.5"
  }
 },
 "nbformat": 4,
 "nbformat_minor": 5
}
