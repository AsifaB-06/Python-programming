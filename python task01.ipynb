{
 "cells": [
  {
   "cell_type": "code",
   "execution_count": 1,
   "id": "c8f1fa37-13ed-4079-b738-9ca42b7d9eb2",
   "metadata": {},
   "outputs": [
    {
     "name": "stdout",
     "output_type": "stream",
     "text": [
      "120\n",
      "12.0\n",
      "-0.7568024953079282\n",
      "0.15425144988758405\n",
      "1.6197751905438615\n",
      "2.302585092994046\n",
      "0.3010299956639812\n",
      "2.321928094887362\n",
      "1.9459101490553132\n",
      "2\n",
      "2\n"
     ]
    }
   ],
   "source": [
    "#using math library for common calculations\n",
    "import math\n",
    "print(math.factorial(5))\n",
    "print(math.sqrt(144))\n",
    "print(math.sin(4))\n",
    "print(math.cos(30))\n",
    "print(math.tan(45))\n",
    "print(math.log(10))\n",
    "print(math.log10(2))\n",
    "print(math.log2(5))\n",
    "print(math.log1p(6)) \n",
    "print(math.floor(2.89))\n",
    "print(math.trunc(2.89))"
   ]
  },
  {
   "cell_type": "code",
   "execution_count": 2,
   "id": "bbaac170-8064-4932-bd2d-8cbbed305527",
   "metadata": {},
   "outputs": [
    {
     "name": "stdout",
     "output_type": "stream",
     "text": [
      "30\n"
     ]
    }
   ],
   "source": [
    "#composition of function\n",
    "def f1(a):\n",
    "    return a*2\n",
    "def f2(b):\n",
    "    return b*3\n",
    "r=f1(f2(5))\n",
    "print(r)"
   ]
  },
  {
   "cell_type": "code",
   "execution_count": 3,
   "id": "c248ede0-8e2a-403b-af69-dbff0be38539",
   "metadata": {},
   "outputs": [
    {
     "name": "stdout",
     "output_type": "stream",
     "text": [
      "10\n",
      "5\n",
      "9\n"
     ]
    }
   ],
   "source": [
    "#function with default args\n",
    "def add(a=2,b=3):\n",
    "    print(a+b)\n",
    "add(4,6)\n",
    "def add(a=2,b=3):\n",
    "    print(a+b)\n",
    "add()\n",
    "def add(a,b=3):\n",
    "    print(a+b)\n",
    "add(6)"
   ]
  },
  {
   "cell_type": "code",
   "execution_count": 4,
   "id": "b004644e-90b4-4fe4-9a40-5c7216c8ca1c",
   "metadata": {},
   "outputs": [
    {
     "name": "stdout",
     "output_type": "stream",
     "text": [
      "7\n",
      "3\n",
      "10\n",
      "2.5\n",
      "1\n",
      "unknown operation\n",
      "None\n"
     ]
    }
   ],
   "source": [
    "#Function to perform arithmetic operations\n",
    "def calculate(a, b, operation=\"add\"):\n",
    "    if operation==\"add\":\n",
    "        return a+b\n",
    "    elif operation==\"sub\":\n",
    "        return a-b\n",
    "    elif operation==\"mul\":\n",
    "        return a*b\n",
    "    elif operation==\"div\":\n",
    "        return a/b\n",
    "    elif operation==\"mod\":\n",
    "        return a%b\n",
    "    else:\n",
    "        print(\"unknown operation\")\n",
    "print(calculate(5,2))\n",
    "print(calculate(5,2,\"sub\"))\n",
    "print(calculate(5,2, \"mul\"))\n",
    "print(calculate(5,2,\"div\"))\n",
    "print(calculate(5,2,\"mod\"))\n",
    "print (calculate(5,2,\"dis\"))"
   ]
  },
  {
   "cell_type": "code",
   "execution_count": 5,
   "id": "d0d07a2d-6ad5-4545-9810-b079d22fb5ac",
   "metadata": {},
   "outputs": [
    {
     "name": "stdout",
     "output_type": "stream",
     "text": [
      "35\n"
     ]
    }
   ],
   "source": [
    "#sum of digits using variable length agrs(non-keyword args)\n",
    "def sum(*args):\n",
    "    s = 0\n",
    "    for i in args:\n",
    "        s = s + i\n",
    "    return s\n",
    "print(sum(5, 6, 7, 8, 9))"
   ]
  },
  {
   "cell_type": "code",
   "execution_count": 6,
   "id": "e528626a-4936-48de-a1e7-8681a68244c4",
   "metadata": {},
   "outputs": [
    {
     "name": "stdout",
     "output_type": "stream",
     "text": [
      "Name:Ashifa\n",
      "Age:18\n"
     ]
    }
   ],
   "source": [
    "#variable length agrs(keyword args)\n",
    "def student(**kwargs):\n",
    "    for key,values in kwargs.items():\n",
    "        print(f\"{key}:{values}\")\n",
    "student(Name=\"Ashifa\",Age=18)"
   ]
  },
  {
   "cell_type": "code",
   "execution_count": 7,
   "id": "9235f6a5-9f0f-4bb0-8431-863444dbfa70",
   "metadata": {},
   "outputs": [
    {
     "name": "stdout",
     "output_type": "stream",
     "text": [
      "5\n",
      "2\n",
      "10\n"
     ]
    },
    {
     "ename": "NameError",
     "evalue": "name 'b' is not defined",
     "output_type": "error",
     "traceback": [
      "\u001b[31m---------------------------------------------------------------------------\u001b[39m",
      "\u001b[31mNameError\u001b[39m                                 Traceback (most recent call last)",
      "\u001b[36mCell\u001b[39m\u001b[36m \u001b[39m\u001b[32mIn[7]\u001b[39m\u001b[32m, line 10\u001b[39m\n\u001b[32m      8\u001b[39m show()\n\u001b[32m      9\u001b[39m \u001b[38;5;28mprint\u001b[39m(a)\n\u001b[32m---> \u001b[39m\u001b[32m10\u001b[39m \u001b[38;5;28mprint\u001b[39m(\u001b[43mb\u001b[49m)\n",
      "\u001b[31mNameError\u001b[39m: name 'b' is not defined"
     ]
    }
   ],
   "source": [
    "#scope of variables\n",
    "a=10\n",
    "c=2\n",
    "def show():\n",
    "    b=5\n",
    "    print(b)\n",
    "    print(c)\n",
    "show()\n",
    "print(a)\n",
    "print(b)"
   ]
  }
 ],
 "metadata": {
  "kernelspec": {
   "display_name": "Python 3 (ipykernel)",
   "language": "python",
   "name": "python3"
  },
  "language_info": {
   "codemirror_mode": {
    "name": "ipython",
    "version": 3
   },
   "file_extension": ".py",
   "mimetype": "text/x-python",
   "name": "python",
   "nbconvert_exporter": "python",
   "pygments_lexer": "ipython3",
   "version": "3.13.5"
  }
 },
 "nbformat": 4,
 "nbformat_minor": 5
}
