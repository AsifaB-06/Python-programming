{
 "cells": [
  {
   "cell_type": "code",
   "execution_count": 3,
   "id": "b03979cb-df39-42ad-bc06-afca47cf0dc9",
   "metadata": {},
   "outputs": [
    {
     "name": "stdin",
     "output_type": "stream",
     "text": [
      "Enter a number: -1\n"
     ]
    },
    {
     "name": "stdout",
     "output_type": "stream",
     "text": [
      "The given number is negative\n"
     ]
    }
   ],
   "source": [
    "#Task in conditional statement\n",
    "#To check whether the given number is positive or negative\n",
    "a=int(input(\"Enter a number:\"))\n",
    "if a>0:\n",
    "    print(\"The given number is positive\")\n",
    "elif a<0:\n",
    "    print(\"The given number is negative\")\n",
    "else:\n",
    "    print(\"Null\")"
   ]
  },
  {
   "cell_type": "code",
   "execution_count": 4,
   "id": "20b9d9b6-8f7a-4116-b210-1ada0c588215",
   "metadata": {},
   "outputs": [
    {
     "name": "stdout",
     "output_type": "stream",
     "text": [
      "1.6666666666666667\n",
      "1\n",
      "2\n",
      "1\n",
      "1\n",
      "2\n",
      "-2\n",
      "-1\n"
     ]
    }
   ],
   "source": [
    "#Floor division\n",
    "print(5/3)\n",
    "print(5//3)\n",
    "print(5%3)\n",
    "print(-5%3)\n",
    "print(10%3)\n",
    "print(-10%3)\n",
    "print(10%-3)\n",
    "print(-10%-3)"
   ]
  },
  {
   "cell_type": "code",
   "execution_count": 5,
   "id": "3ec5171d-d568-4478-b364-ec8eb402ebe9",
   "metadata": {},
   "outputs": [
    {
     "name": "stdin",
     "output_type": "stream",
     "text": [
      "Enter the age: 19\n",
      "Enter the citizenship: Europe\n"
     ]
    },
    {
     "name": "stdout",
     "output_type": "stream",
     "text": [
      "You are not eligible to vote\n"
     ]
    }
   ],
   "source": [
    "#Task in logical operators\n",
    "#To check the eligibility criteria for voting\n",
    "age=int(input(\"Enter the age:\"))\n",
    "citizen=input(\"Enter the citizenship:\")\n",
    "if age>=18 and citizen==\"India\":\n",
    "    print(\"You are eligible to vote\")\n",
    "else:\n",
    "    print(\"You are not eligible to vote\")\n"
   ]
  },
  {
   "cell_type": "code",
   "execution_count": 6,
   "id": "d374f5b5-48cb-482d-a90e-49e1e8a3ec6e",
   "metadata": {},
   "outputs": [
    {
     "name": "stdout",
     "output_type": "stream",
     "text": [
      "False\n",
      "True\n",
      "True\n"
     ]
    }
   ],
   "source": [
    "#--identity operator--\n",
    "x=[2,3,4]\n",
    "y=[2,3,4]\n",
    "z=x\n",
    "print(x is y)\n",
    "print(x is not y)\n",
    "print(x==y)"
   ]
  },
  {
   "cell_type": "code",
   "execution_count": 8,
   "id": "8a88bb42-35e2-4bfe-9ab1-4a28b8cf94a2",
   "metadata": {},
   "outputs": [
    {
     "name": "stdout",
     "output_type": "stream",
     "text": [
      "True\n",
      "False\n",
      "True\n"
     ]
    }
   ],
   "source": [
    "#--identity operator--\n",
    "x=[2,3,4]\n",
    "y=[2,3,4]\n",
    "z=x\n",
    "x=y\n",
    "print(x is y)\n",
    "print(x is not y)\n",
    "print(x==y)"
   ]
  },
  {
   "cell_type": "code",
   "execution_count": 9,
   "id": "8502df47-64d5-44c0-ba42-f5c46031f9be",
   "metadata": {},
   "outputs": [
    {
     "name": "stdout",
     "output_type": "stream",
     "text": [
      "True\n",
      "True\n",
      "False\n"
     ]
    }
   ],
   "source": [
    "#--membership operator--\n",
    "color=[\"red\",\"blue\",\"yellow\",\"white\",\"pink\",\"orange\"]\n",
    "print(\"red\" in color)\n",
    "print(\"yellow\" in color)\n",
    "print(\"blue\" not in color)"
   ]
  },
  {
   "cell_type": "code",
   "execution_count": 10,
   "id": "52d2dfa2-a694-45db-9bbc-6061c5f7187b",
   "metadata": {},
   "outputs": [
    {
     "name": "stdout",
     "output_type": "stream",
     "text": [
      "120\n"
     ]
    }
   ],
   "source": [
    "#Recursion \n",
    "#Factorial of a number\n",
    "def fact(n):\n",
    "    if n==1:\n",
    "        return 1\n",
    "    else:\n",
    "        return n*fact(n-1)\n",
    "print(fact(5))"
   ]
  },
  {
   "cell_type": "code",
   "execution_count": 15,
   "id": "139cd676-6359-42bc-bba4-b23b1fbe75c2",
   "metadata": {},
   "outputs": [
    {
     "name": "stdin",
     "output_type": "stream",
     "text": [
      "Enter the subject: Maths\n",
      "Enter the marks: 30\n"
     ]
    },
    {
     "name": "stdout",
     "output_type": "stream",
     "text": [
      "Fail\n"
     ]
    }
   ],
   "source": [
    "#Chained conditions\n",
    "subject=input(\"Enter the subject:\")\n",
    "mark=int(input(\"Enter the marks:\"))\n",
    "if subject==\"maths\" or subject==\"Maths\":\n",
    "    if mark>=50:\n",
    "        print(\"Pass\")\n",
    "    else:\n",
    "        print(\"Fail\")"
   ]
  },
  {
   "cell_type": "code",
   "execution_count": 18,
   "id": "ad551e57-844f-4b85-8e4f-7f4bb3d64c94",
   "metadata": {},
   "outputs": [],
   "source": [
    "#Debugging in recursive function\n",
    "def fact(n):\n",
    "    print(f\"Factorial {n}\")\n",
    "    if n==1:\n",
    "        r=1\n",
    "    else:\n",
    "        r=n*fact(n-1)\n",
    "    print(\"Factorial:\",fact(5))\n",
    "    return(r)"
   ]
  },
  {
   "cell_type": "code",
   "execution_count": 21,
   "id": "35990e22-b565-4f59-b49d-37255e400e3e",
   "metadata": {},
   "outputs": [
    {
     "name": "stdout",
     "output_type": "stream",
     "text": [
      "Factorial 5\n",
      "Factorial 4\n",
      "Factorial 3\n",
      "Factorial 2\n",
      "Factorial 1\n",
      "Factorial: 120\n"
     ]
    }
   ],
   "source": [
    "#Debugging in recursive function\n",
    "def fact(n):\n",
    "    print(f\"Factorial {n}\")\n",
    "    if n==1:\n",
    "        r=1\n",
    "    else:\n",
    "        r=n*fact(n-1)\n",
    "    return(r)\n",
    "print(\"Factorial:\",fact(5))"
   ]
  },
  {
   "cell_type": "code",
   "execution_count": 22,
   "id": "61e011f3-6ecd-435c-a454-1d08c333891d",
   "metadata": {},
   "outputs": [
    {
     "name": "stdout",
     "output_type": "stream",
     "text": [
      "24\n"
     ]
    }
   ],
   "source": [
    "#Fruitful function\n",
    "def multiply(a,b,c):\n",
    "    d=a*b*c\n",
    "    return d\n",
    "print(multiply(2,3,4))"
   ]
  },
  {
   "cell_type": "code",
   "execution_count": 24,
   "id": "44036f90-7ad6-4b84-838c-b58f568cfab4",
   "metadata": {},
   "outputs": [
    {
     "name": "stdin",
     "output_type": "stream",
     "text": [
      "Enter the radius: 3.0\n"
     ]
    },
    {
     "name": "stdout",
     "output_type": "stream",
     "text": [
      "Volume of sphere: 113.09733552923254\n"
     ]
    }
   ],
   "source": [
    "#Finding volume of sphere\n",
    "import math\n",
    "pi=math.pi\n",
    "def volume(r):\n",
    "    vos=4/3*pi*r**3\n",
    "    return vos\n",
    "r=float(input(\"Enter the radius:\"))\n",
    "print(\"Volume of sphere:\",volume(r))"
   ]
  },
  {
   "cell_type": "code",
   "execution_count": 26,
   "id": "746c91cb-d906-4c96-a70f-e90b6e9a4a26",
   "metadata": {},
   "outputs": [
    {
     "name": "stdout",
     "output_type": "stream",
     "text": [
      "Sum of numbers: 5\n",
      "Sum of numbers: 4\n",
      "Sum of numbers: 3\n",
      "Sum of numbers: 2\n",
      "Sum of numbers: 1\n",
      "15\n"
     ]
    }
   ],
   "source": [
    "#Sum of numbers\n",
    "def  sum(n):\n",
    "    print(f\"Sum of numbers: {n}\")\n",
    "    if n==1:\n",
    "        return 1\n",
    "    else:\n",
    "        return n+sum(n-1)\n",
    "print(sum(5))"
   ]
  },
  {
   "cell_type": "code",
   "execution_count": 29,
   "id": "37e89959-a917-44d0-9215-a72c045ef1f2",
   "metadata": {},
   "outputs": [
    {
     "name": "stdout",
     "output_type": "stream",
     "text": [
      "36\n"
     ]
    }
   ],
   "source": [
    "#Composition in normal function\n",
    "def square(x):\n",
    "    return(x*x)\n",
    "def increment(y):\n",
    "    return(y+1)\n",
    "r=square(increment(5))\n",
    "print(r)"
   ]
  },
  {
   "cell_type": "code",
   "execution_count": 30,
   "id": "d8fc106c-04e6-4cae-b6c2-e38f27c98841",
   "metadata": {},
   "outputs": [
    {
     "name": "stdout",
     "output_type": "stream",
     "text": [
      "676\n"
     ]
    }
   ],
   "source": [
    "#Composition of recursive function\n",
    "def square(x):\n",
    "    return(x*x)\n",
    "def increment(y):\n",
    "    return(y+1)\n",
    "def composite_recursive(z):\n",
    "    if z==0:\n",
    "        return 1\n",
    "    return(square(increment(composite_recursive(z-1))))\n",
    "print(composite_recursive(3))"
   ]
  },
  {
   "cell_type": "code",
   "execution_count": 31,
   "id": "4c81a783-9192-4384-a0bd-637958720284",
   "metadata": {},
   "outputs": [
    {
     "name": "stdout",
     "output_type": "stream",
     "text": [
      "\n",
      "==== ATM Menu ====\n",
      "1. Check Balance\n",
      "2. Withdraw\n",
      "3. Deposit\n",
      "4. Exit\n"
     ]
    },
    {
     "name": "stdin",
     "output_type": "stream",
     "text": [
      "Enter your choice (1-4):  1\n"
     ]
    },
    {
     "name": "stdout",
     "output_type": "stream",
     "text": [
      "Your current balance is: ₹ 100000\n",
      "\n",
      "==== ATM Menu ====\n",
      "1. Check Balance\n",
      "2. Withdraw\n",
      "3. Deposit\n",
      "4. Exit\n"
     ]
    },
    {
     "name": "stdin",
     "output_type": "stream",
     "text": [
      "Enter your choice (1-4):  2\n",
      "Enter amount to withdraw: ₹ 10000\n"
     ]
    },
    {
     "name": "stdout",
     "output_type": "stream",
     "text": [
      "Withdrawal successful. Remaining balance: ₹90000.0\n",
      "\n",
      "==== ATM Menu ====\n",
      "1. Check Balance\n",
      "2. Withdraw\n",
      "3. Deposit\n",
      "4. Exit\n"
     ]
    },
    {
     "name": "stdin",
     "output_type": "stream",
     "text": [
      "Enter your choice (1-4):  3\n",
      "Enter amount to deposit: ₹ 50000\n"
     ]
    },
    {
     "name": "stdout",
     "output_type": "stream",
     "text": [
      "Deposit successful. New balance: ₹140000.0\n",
      "\n",
      "==== ATM Menu ====\n",
      "1. Check Balance\n",
      "2. Withdraw\n",
      "3. Deposit\n",
      "4. Exit\n"
     ]
    },
    {
     "name": "stdin",
     "output_type": "stream",
     "text": [
      "Enter your choice (1-4):  4\n"
     ]
    },
    {
     "name": "stdout",
     "output_type": "stream",
     "text": [
      "Thank you for using our ATM. Goodbye!\n"
     ]
    }
   ],
   "source": [
    "#ATM Simulation using conditional and looping with default deposit\n",
    "\n",
    "#Initail balance\n",
    "balance = 100000 #Default deposited amount\n",
    "\n",
    "#ATM Menu\n",
    "def atm_menu():\n",
    "    print(\"\\n==== ATM Menu ====\")\n",
    "    print(\"1. Check Balance\")\n",
    "    print(\"2. Withdraw\")\n",
    "    print(\"3. Deposit\")\n",
    "    print(\"4. Exit\")\n",
    "\n",
    "# ATM Simulation\n",
    "while True:\n",
    "    atm_menu()\n",
    "    choice = input(\"Enter your choice (1-4): \")\n",
    "\n",
    "    if choice == '1':\n",
    "        print(\"Your current balance is: ₹\", balance)\n",
    "\n",
    "    elif choice == '2':\n",
    "        withdraw_amount = float(input(\"Enter amount to withdraw: ₹\"))\n",
    "        if withdraw_amount > balance:\n",
    "            print(\"Insufficient balance!\")\n",
    "        elif withdraw_amount <= 0:\n",
    "            print(\"Enter a valid amount!\")\n",
    "        else:\n",
    "            balance -= withdraw_amount\n",
    "            print(f\"Withdrawal successful. Remaining balance: ₹{balance}\")\n",
    "\n",
    "    elif choice == '3':\n",
    "        deposit_amount = float(input(\"Enter amount to deposit: ₹\"))\n",
    "        if deposit_amount <= 0:\n",
    "            print(\"Enter a valid amount!\")\n",
    "        else:\n",
    "            balance += deposit_amount\n",
    "            print(f\"Deposit successful. New balance: ₹{balance}\")\n",
    "\n",
    "    elif choice == '4':\n",
    "        print(\"Thank you for using our ATM. Goodbye!\")\n",
    "        break\n",
    "\n",
    "    else:\n",
    "        print(\"Invalid choice! Please select a valid option (1-4).\")"
   ]
  },
  {
   "cell_type": "code",
   "execution_count": 32,
   "id": "404512e1-796c-49fd-be6f-d7d2822b574d",
   "metadata": {},
   "outputs": [
    {
     "name": "stdout",
     "output_type": "stream",
     "text": [
      "\n",
      "=== Show Timings & Tickets Available ===\n",
      "1. 10:00 AM - Tickets Available: 10\n",
      "2. 1:00 PM - Tickets Available: 8\n",
      "3. 4:00 PM - Tickets Available: 5\n",
      "4. 7:00 PM - Tickets Available: 12\n",
      "5. Exit\n"
     ]
    },
    {
     "name": "stdin",
     "output_type": "stream",
     "text": [
      "\n",
      "Enter your choice (1-5):  2\n"
     ]
    },
    {
     "name": "stdout",
     "output_type": "stream",
     "text": [
      "You selected 1:00 PM\n",
      "Tickets Available: 8\n"
     ]
    },
    {
     "name": "stdin",
     "output_type": "stream",
     "text": [
      "Enter number of seats to book:  9\n"
     ]
    },
    {
     "name": "stdout",
     "output_type": "stream",
     "text": [
      "Not enough tickets available.\n",
      "\n",
      "=== Show Timings & Tickets Available ===\n",
      "1. 10:00 AM - Tickets Available: 10\n",
      "2. 1:00 PM - Tickets Available: 8\n",
      "3. 4:00 PM - Tickets Available: 5\n",
      "4. 7:00 PM - Tickets Available: 12\n",
      "5. Exit\n"
     ]
    },
    {
     "name": "stdin",
     "output_type": "stream",
     "text": [
      "\n",
      "Enter your choice (1-5):  3\n"
     ]
    },
    {
     "name": "stdout",
     "output_type": "stream",
     "text": [
      "You selected 4:00 PM\n",
      "Tickets Available: 5\n"
     ]
    },
    {
     "name": "stdin",
     "output_type": "stream",
     "text": [
      "Enter number of seats to book:  4\n"
     ]
    },
    {
     "name": "stdout",
     "output_type": "stream",
     "text": [
      "Booking successful for 4:00 PM\n",
      "\n",
      "=== Show Timings & Tickets Available ===\n",
      "1. 10:00 AM - Tickets Available: 10\n",
      "2. 1:00 PM - Tickets Available: 8\n",
      "3. 4:00 PM - Tickets Available: 1\n",
      "4. 7:00 PM - Tickets Available: 12\n",
      "5. Exit\n"
     ]
    },
    {
     "name": "stdin",
     "output_type": "stream",
     "text": [
      "\n",
      "Enter your choice (1-5):  4\n"
     ]
    },
    {
     "name": "stdout",
     "output_type": "stream",
     "text": [
      "You selected 7:00 PM\n",
      "Tickets Available: 12\n"
     ]
    },
    {
     "name": "stdin",
     "output_type": "stream",
     "text": [
      "Enter number of seats to book:  9\n"
     ]
    },
    {
     "name": "stdout",
     "output_type": "stream",
     "text": [
      "Booking successful for 7:00 PM\n",
      "\n",
      "=== Show Timings & Tickets Available ===\n",
      "1. 10:00 AM - Tickets Available: 10\n",
      "2. 1:00 PM - Tickets Available: 8\n",
      "3. 4:00 PM - Tickets Available: 1\n",
      "4. 7:00 PM - Tickets Available: 3\n",
      "5. Exit\n"
     ]
    },
    {
     "name": "stdin",
     "output_type": "stream",
     "text": [
      "\n",
      "Enter your choice (1-5):  5\n"
     ]
    },
    {
     "name": "stdout",
     "output_type": "stream",
     "text": [
      "Thank you for using the Ticket Booking System!\n"
     ]
    }
   ],
   "source": [
    "#Ticket Booking system using conditional and looping in python\n",
    "\n",
    "#Initial Tickets and show details\n",
    "time1 = \"10:00 AM\"\n",
    "time2 = \"1:00 PM\"\n",
    "time3 = \"4:00 PM\"\n",
    "time4 = \"7:00 PM\"\n",
    "\n",
    "tickets1 = 10\n",
    "tickets2 = 8\n",
    "tickets3 = 5\n",
    "tickets4 = 12\n",
    "\n",
    "#Booking loop\n",
    "while True:\n",
    "    print(\"\\n=== Show Timings & Tickets Available ===\")\n",
    "    print(\"1.\", time1, \"- Tickets Available:\", tickets1)\n",
    "    print(\"2.\", time2, \"- Tickets Available:\", tickets2)\n",
    "    print(\"3.\", time3, \"- Tickets Available:\", tickets3)\n",
    "    print(\"4.\", time4, \"- Tickets Available:\", tickets4)\n",
    "    print(\"5. Exit\")\n",
    "\n",
    "    choice = input(\"\\nEnter your choice (1-5): \")\n",
    "\n",
    "    if choice == '1':\n",
    "        print(\"You selected\", time1)\n",
    "        print(\"Tickets Available:\", tickets1)\n",
    "        seats = int(input(\"Enter number of seats to book: \"))\n",
    "        if seats <= 0:\n",
    "            print(\"Enter a valid number of seats.\")\n",
    "        elif seats > tickets1:\n",
    "            print(\"Not enough tickets available.\")\n",
    "        else:\n",
    "            tickets1 -= seats\n",
    "            print(\"Booking successful for\", time1)\n",
    "\n",
    "    elif choice == '2':\n",
    "        print(\"You selected\", time2)\n",
    "        print(\"Tickets Available:\", tickets2)\n",
    "        seats = int(input(\"Enter number of seats to book: \"))\n",
    "        if seats <= 0:\n",
    "            print(\"Enter a valid number of seats.\")\n",
    "        elif seats > tickets2:\n",
    "            print(\"Not enough tickets available.\")\n",
    "        else:\n",
    "            tickets2 -= seats\n",
    "            print(\"Booking successful for\", time2)\n",
    "\n",
    "    elif choice == '3':\n",
    "        print(\"You selected\", time3)\n",
    "        print(\"Tickets Available:\", tickets3)\n",
    "        seats = int(input(\"Enter number of seats to book: \"))\n",
    "        if seats <= 0:\n",
    "            print(\"Enter a valid number of seats.\")\n",
    "        elif seats > tickets3:\n",
    "            print(\"Not enough tickets available.\")\n",
    "        else:\n",
    "            tickets3 -= seats\n",
    "            print(\"Booking successful for\", time3)\n",
    "\n",
    "    elif choice == '4':\n",
    "        print(\"You selected\", time4)\n",
    "        print(\"Tickets Available:\", tickets4)\n",
    "        seats = int(input(\"Enter number of seats to book: \"))\n",
    "        if seats <= 0:\n",
    "            print(\"Enter a valid number of seats.\")\n",
    "        elif seats > tickets4:\n",
    "            print(\"Not enough tickets available.\")\n",
    "        else:\n",
    "            tickets4 -= seats\n",
    "            print(\"Booking successful for\", time4)\n",
    "\n",
    "    elif choice == '5':\n",
    "        print(\"Thank you for using the Ticket Booking System!\")\n",
    "        break\n",
    "\n",
    "    else:\n",
    "        print(\"Invalid choice. Please enter 1-5.\")"
   ]
  }
 ],
 "metadata": {
  "kernelspec": {
   "display_name": "Python 3 (ipykernel)",
   "language": "python",
   "name": "python3"
  },
  "language_info": {
   "codemirror_mode": {
    "name": "ipython",
    "version": 3
   },
   "file_extension": ".py",
   "mimetype": "text/x-python",
   "name": "python",
   "nbconvert_exporter": "python",
   "pygments_lexer": "ipython3",
   "version": "3.13.5"
  }
 },
 "nbformat": 4,
 "nbformat_minor": 5
}
